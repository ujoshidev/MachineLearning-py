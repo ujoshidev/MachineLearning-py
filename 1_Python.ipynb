{
  "nbformat": 4,
  "nbformat_minor": 0,
  "metadata": {
    "colab": {
      "name": "1-Python.ipynb",
      "provenance": [],
      "authorship_tag": "ABX9TyMrdeQUW8gHtpr+sSiDeMcA"
    },
    "kernelspec": {
      "name": "python3",
      "display_name": "Python 3"
    },
    "language_info": {
      "name": "python"
    }
  },
  "cells": [
    {
      "cell_type": "markdown",
      "source": [
        "Q: Consider a list [1, 2, 3, 4, 5, 6, 7, 8, 9, 10, 11, 12]. Write a loop that extracts sublists [1, 4, 7, 10], [2, 5, 8, 11] and [3, 6, 9, 12]. Use slicing and the step argument inside the loop!"
      ],
      "metadata": {
        "id": "Y2G8QJEyxfbZ"
      }
    },
    {
      "cell_type": "code",
      "source": [
        "l = [1, 2, 3, 4, 5, 6, 7, 8, 9, 10, 11, 12]\n",
        "print(list(l[i::3] for i in range(0,3)))\n"
      ],
      "metadata": {
        "colab": {
          "base_uri": "https://localhost:8080/"
        },
        "id": "AOAVv1rqxkDL",
        "outputId": "a0874dde-4f8e-43bf-c6d7-1927f58522fc"
      },
      "execution_count": 12,
      "outputs": [
        {
          "output_type": "stream",
          "name": "stdout",
          "text": [
            "[[1, 4, 7, 10], [2, 5, 8, 11], [3, 6, 9, 12]]\n"
          ]
        }
      ]
    },
    {
      "cell_type": "markdown",
      "source": [
        "Q: create a list that contains the names of two of your best friends.\n",
        "create another, empty list, for people you know but who are not your good friends.\n",
        "add two names to the second list\n",
        "combine both lists together (it should contain four names).\n",
        "print the result with an explanatory message."
      ],
      "metadata": {
        "id": "MJM_wtD_zbxA"
      }
    },
    {
      "cell_type": "code",
      "source": [
        "l1 = ['joe','sam']\n",
        "l2 = []\n",
        "print('Orig l1:',l1)\n",
        "print('Orig l2:',l2)\n",
        "l2.append(l1)\n",
        "print('Mod l2:',l2)\n",
        "l1=l1+l2\n",
        "print('Mod l1:',l1)"
      ],
      "metadata": {
        "id": "AUsXkS2GzWBJ",
        "outputId": "8e45e8da-c4b4-4b57-81fc-24816d8d336f",
        "colab": {
          "base_uri": "https://localhost:8080/"
        }
      },
      "execution_count": 17,
      "outputs": [
        {
          "output_type": "stream",
          "name": "stdout",
          "text": [
            "Orig l1: ['joe', 'sam']\n",
            "Orig l2: []\n",
            "Mod l2: [['joe', 'sam']]\n",
            "Mod l1: ['joe', 'sam', ['joe', 'sam']]\n"
          ]
        }
      ]
    },
    {
      "cell_type": "markdown",
      "source": [
        "Q: Use list comprehension.\n",
        "\n",
        "create a list of squares of numbers of 1..10 using the range(10) function (not range(1,11)).\n",
        "create a list of pizza toppings, e.g. mushrooms, mozarella, pineapple, … Using list comprehension, add a ‘pizza with’ in front of each element, so the result will be ‘pizza with mushrooms, ’pizza with mozarella’, …"
      ],
      "metadata": {
        "id": "314HjUFq0t6f"
      }
    },
    {
      "cell_type": "code",
      "source": [
        "#1.\n",
        "print(list((i+1)*(i+1) for i in range(10)))\n",
        "#2.\n",
        "l=['tomato','olives','mashroom','chicken']\n",
        "for i in l:\n",
        "  print(f'pizza with {i}')\n"
      ],
      "metadata": {
        "id": "I4kuE-T30wY0",
        "outputId": "f6fd26f0-7962-4cb7-b62c-90cd967f7105",
        "colab": {
          "base_uri": "https://localhost:8080/"
        }
      },
      "execution_count": 19,
      "outputs": [
        {
          "output_type": "stream",
          "name": "stdout",
          "text": [
            "[1, 4, 9, 16, 25, 36, 49, 64, 81, 100]\n",
            "pizza with tomato\n",
            "pizza with olives\n",
            "pizza with mashroom\n",
            "pizza with chicken\n"
          ]
        }
      ]
    },
    {
      "cell_type": "markdown",
      "source": [
        "Q: dict of dicts\n",
        "\n",
        "Create a two similar dicts that contain addresses of two places.\n",
        "Next, create a new dict places where they keys are names of those places, and values are the corresponding addresses (addresses as dicts).\n",
        "Add a third address to the dict using the dict[key] = ... notation."
      ],
      "metadata": {
        "id": "zs-N71Vl1d3E"
      }
    },
    {
      "cell_type": "code",
      "source": [
        "d1 = {'h1':'addr1'}\n",
        "d2 = {'h2':'addr2'}\n",
        "\n",
        "places = {'p1':d1,'p2':d2}\n",
        "print(places)\n",
        "places['d3'] = {'h3','addr3'}\n",
        "print(places)"
      ],
      "metadata": {
        "id": "8RMhz0pO1gLM",
        "outputId": "c9a582af-05a3-422b-9778-28a739dfc187",
        "colab": {
          "base_uri": "https://localhost:8080/"
        }
      },
      "execution_count": 21,
      "outputs": [
        {
          "output_type": "stream",
          "name": "stdout",
          "text": [
            "{'p1': {'h1': 'addr1'}, 'p2': {'h2': 'addr2'}}\n",
            "{'p1': {'h1': 'addr1'}, 'p2': {'h2': 'addr2'}, 'd3': {'addr3', 'h3'}}\n"
          ]
        }
      ]
    }
  ]
}